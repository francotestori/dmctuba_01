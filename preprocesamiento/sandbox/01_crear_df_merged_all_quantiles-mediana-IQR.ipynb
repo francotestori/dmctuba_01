{
 "cells": [
  {
   "cell_type": "code",
   "execution_count": null,
   "metadata": {},
   "outputs": [],
   "source": [
    "import matplotlib.pyplot as plt\n",
    "import pandas as pd \n",
    "import spotipy \n",
    "import librosa\n",
    "import librosa.display\n",
    "import numpy as np\n",
    "import matplotlib as mpl\n",
    "import urllib.request\n",
    "import seaborn as sns\n",
    "import tqdm\n",
    "import scipy\n",
    "import joblib\n",
    "import os.path\n",
    "from pathlib import Path\n",
    "from IPython.display import Audio, Markdown, Image\n",
    "from spotipy.oauth2 import SpotifyClientCredentials\n",
    "\n",
    "# Números y Datos\n",
    "import numpy as np\n",
    "import pandas as pd\n",
    "from scipy.spatial.distance import pdist, squareform\n",
    "from scipy.interpolate import interp1d\n",
    "\n",
    "# Análisis de sonido\n",
    "import librosa\n",
    "import librosa.display\n",
    "import spotipy \n",
    "from spotipy.oauth2 import SpotifyClientCredentials \n",
    "\n",
    "# Machine learning\n",
    "from sklearn.preprocessing import StandardScaler\n",
    "from sklearn.decomposition import PCA\n",
    "from sklearn.manifold import TSNE\n",
    "from sklearn.cluster import KMeans\n",
    "from sklearn.metrics import adjusted_rand_score\n",
    "\n",
    "from sklearn.preprocessing import quantile_transform\n",
    "\n",
    "# Styles\n",
    "sns.set_context('poster')\n",
    "sns.set_style('darkgrid')\n",
    "\n",
    "plt.rcParams['figure.figsize'] = [12, 6]\n",
    "plt.rcParams['figure.dpi'] = 100 # 200 e.g. is really fine, but slower"
   ]
  },
  {
   "cell_type": "code",
   "execution_count": null,
   "metadata": {},
   "outputs": [],
   "source": [
    "# Extraemos los dataframes de nuestros files\n",
    "df_tracks = pd.read_pickle('../sources/tracks.pickle')\n",
    "df_af = pd.read_pickle('../sources/audio_features.pickle')\n",
    "df_aa = pd.read_pickle('../sources/audio_analysis.pickle') \\\n",
    "    .set_index(['id','start']) \\\n",
    "    .sort_values(by=['id', 'start'], ascending=True, na_position='first')"
   ]
  },
  {
   "cell_type": "code",
   "execution_count": null,
   "metadata": {},
   "outputs": [],
   "source": [
    "# Generamos un dataframe combinando la data de tracks y de audio features\n",
    "df_merged = df_tracks.merge(\n",
    "    df_af, \n",
    "    on='id', \n",
    "    how='left'\n",
    ")\n",
    "df_merged = df_merged.drop(\n",
    "    [\n",
    "     'type_x',\n",
    "     'type_y',\n",
    "     'uri_x',\n",
    "     'uri_y',\n",
    "     'track_href',\n",
    "     'analysis_url',\n",
    "     'href',\n",
    "     'preview_url',\n",
    "     'external_ids',\n",
    "     'duration_ms_y'\n",
    "    ], \n",
    "    1\n",
    ")\n",
    "\n",
    "df_merged.rename(columns = {\"duration_ms_x\": \"duration_ms\"}, inplace = True)"
   ]
  },
  {
   "cell_type": "code",
   "execution_count": null,
   "metadata": {},
   "outputs": [],
   "source": [
    "# Extraemos para cada registro la variable release_date y la asignamos a una nueva columna en nuestro dataframe.\n",
    "\n",
    "# Función que generamos para formatear la fecha\n",
    "def date_formator(date):\n",
    "    if '-' in date:\n",
    "        year = pd.to_datetime(date, format = '%Y-%m-%d').year\n",
    "        return int(year)\n",
    "    elif int(date)>0:\n",
    "        year = pd.to_datetime(date, format = '%Y').year\n",
    "        return int(year)\n",
    "    return None\n",
    "\n",
    "\n",
    "df_merged['release_date'] = df_merged['album'].map(lambda x: x['release_date'])\n",
    "df_merged['release_date'] = df_merged['release_date'].apply(date_formator)\n",
    "df_merged['release_date'].head()"
   ]
  },
  {
   "cell_type": "code",
   "execution_count": null,
   "metadata": {},
   "outputs": [],
   "source": [
    "# Obtengo ids de album\n",
    "df_merged['album_id'] = df_merged['album'].map(lambda x: x['id'])\n",
    "\n",
    "# Agrego artistas y género\n",
    "df_merged[[\"artists\",\"genre\"]] =  df_merged.loc[:,[\"artists\",\"genre\"]] "
   ]
  },
  {
   "cell_type": "code",
   "execution_count": null,
   "metadata": {},
   "outputs": [],
   "source": [
    "# Vemos cuales son nuestras columnas\n",
    "df_merged.columns.values"
   ]
  },
  {
   "cell_type": "code",
   "execution_count": null,
   "metadata": {},
   "outputs": [],
   "source": [
    "df_merged.sample(3).T"
   ]
  },
  {
   "cell_type": "code",
   "execution_count": null,
   "metadata": {},
   "outputs": [],
   "source": [
    "def plot_radar_chart_stats(s25,s50,s75,color,ax):\n",
    "    grupo=s25.name\n",
    "    labels = s25.index\n",
    "\n",
    "    angles=np.linspace(0, 2*np.pi, len(s25), endpoint=False)\n",
    "    angles=np.append(angles,angles[0])\n",
    "    s25=np.append(s25,s25[0])\n",
    "    s50=np.append(s50,s50[0])\n",
    "    s75=np.append(s75,s75[0])\n",
    "\n",
    "    ax.plot(angles, s50, 'o-', linewidth=1,color=color,markersize=4)\n",
    "    ax.set_yticklabels([])\n",
    "    ax.set_thetagrids(angles * 180/np.pi, labels, fontsize=6, color='gray')\n",
    "    ax.tick_params(pad=-6, direction='out', length=8, color='k', zorder=-1)\n",
    "    ax.fill_between(angles, s25, s75, alpha=0.2,color=color)\n",
    "    ax.set_title(grupo, fontsize=12, loc='left')\n",
    "    ax.grid(True)\n",
    "    ax.set_ylim(0,1)\n"
   ]
  },
  {
   "cell_type": "code",
   "execution_count": null,
   "metadata": {},
   "outputs": [],
   "source": [
    "# quantil=50 # 50 quantiles\n",
    "# df_num = df_merged.copy()\n",
    "# df_num = df_num.select_dtypes(['number']).drop(['disc_number','track_number','release_date','duration_ms','mode','time_signature'],1)\n",
    "\n",
    "# quantile_transform(\n",
    "#         df_num, \n",
    "#         n_quantiles = 100,\n",
    "#         output_distribution = 'uniform', \n",
    "#         random_state = 0, \n",
    "#         copy = False\n",
    "#         )"
   ]
  },
  {
   "cell_type": "code",
   "execution_count": null,
   "metadata": {},
   "outputs": [],
   "source": [
    "# df_merged.select_dtypes(['number']).drop(['disc_number','track_number','release_date','duration_ms'],1).head()\n",
    "# df_merged['mode'][1:200]"
   ]
  },
  {
   "cell_type": "code",
   "execution_count": null,
   "metadata": {},
   "outputs": [],
   "source": [
    "quantil=100 # 50 quantiles\n",
    "df_num = df_merged.copy()\n",
    "df_num = df_num.select_dtypes(['number']).drop(['disc_number','track_number','release_date','duration_ms','mode','time_signature'],1)\n",
    "\n",
    "df_num = pd.DataFrame(\n",
    "    quantile_transform(\n",
    "        df_num, \n",
    "        n_quantiles = quantil,\n",
    "        output_distribution = 'uniform', \n",
    "        random_state = 0, \n",
    "        copy = True\n",
    "    ), columns=df_num.columns,index=df_num.index\n",
    ")\n",
    "df_num['genre']=df_merged['genre']\n",
    "\n",
    "normalized_stats_25 = df_num.groupby('genre').quantile(.25)\n",
    "normalized_stats_50 = df_num.groupby('genre').quantile(.5)\n",
    "normalized_stats_75 = df_num.groupby('genre').quantile(.75)\n",
    "df_num.head(20)"
   ]
  },
  {
   "cell_type": "code",
   "execution_count": null,
   "metadata": {},
   "outputs": [],
   "source": [
    "rows=2\n",
    "my_palette = sns.color_palette(\"Set2\")\n",
    "q = int(len(normalized_stats_25)/rows)+len(normalized_stats_25)%rows\n",
    "fig, axs = plt.subplots(rows, q, subplot_kw=dict(polar=True))\n",
    "\n",
    "for i in range(rows*q):\n",
    "    if i<len(normalized_stats_25):\n",
    "        plot_radar_chart_stats(normalized_stats_25.iloc[i],\n",
    "                               normalized_stats_50.iloc[i],\n",
    "                               normalized_stats_75.iloc[i],\n",
    "                               my_palette[i%8],axs[i%rows, int(i/rows)])\n",
    "    else:\n",
    "        fig.delaxes(axs[i%rows, int(i/rows)])\n",
    "\n",
    "plt.savefig('radar_chart.png',dpi=800, bbox_inches = 'tight', pad_inches = 0)\n",
    "plt.show()"
   ]
  },
  {
   "cell_type": "markdown",
   "metadata": {},
   "source": [
    "Gráfico Radar de los features por cada género del set de datos.\n",
    "\n",
    "La línea gruesa indica la mediana, y el sombreado es el rango intercuartil.\n",
    "\n",
    "Las características se encuentran escaladas y normalizadas por cuantiles (dando una medición robusta de cada feature para hacer las estadísticas comparables)\n",
    "\n",
    "Análisis de este gráfico\n",
    "* La ópera y la clásica son los que más acousticness tienen.\n",
    "* Las canciones de trance son las que en general suelen tener mayor duración (seguidas por las ambient y drum-and-bass).\n",
    "* La música ambient y classical son las de mayor instrumentalness.\n",
    "* Death-metal suelen ser el género de mayor liveness junto con drum-and-bass.\n",
    "* Death-metal es incuestionablemente el género más energético, seguido por drum-and-bass, ska y trance.\n",
    "* Opera y classical comparten las característica de baja energy, baja valence, bajo tempo, alto acousticness y bajo speechness.\n",
    "* Los géneros más danceable son singer-songwriter, trance, jazz y ska.\n",
    "* La variable de popularidad corre a lo largo de todo el espectro para la mayoría de los géneros y ninguno muestra una amplia diferencia con respecto al resto. Más allá de eso, las canciones de singer-songwriter tienen (en media) las canciones más populares, seguidos por jazz y classical."
   ]
  },
  {
   "cell_type": "markdown",
   "metadata": {},
   "source": [
    "Desdoblamos los features de pitches y timbre en distintas columnas"
   ]
  },
  {
   "cell_type": "code",
   "execution_count": null,
   "metadata": {},
   "outputs": [],
   "source": [
    "df_m2 = df_aa\n",
    "\n",
    "pitches_nombre = ['p00_C','p01_C#','p02_D','p03_D#','p04_E','p05_F',\n",
    "                 'p06_F#','p07_G','p08_G#','p09_A','p10_A#','p11_B']\n",
    "df1 = pd.DataFrame(df_m2['pitches'].tolist(), columns=pitches_nombre, index=df_m2.index)\n",
    "df_m2 = pd.concat([df_m2,df1],axis=1)\n",
    "\n",
    "timbre_nombre = ['t00','t01','t02','t03','t04','t05',\n",
    "                 't06','t07','t08','t09','t10','t11']\n",
    "df1 = pd.DataFrame(df_m2['timbre'].tolist(), columns=timbre_nombre, index=df_m2.index)\n",
    "df_m2 = pd.concat([df_m2,df1],axis=1).drop(['pitches','timbre'],1)\n",
    "\n",
    "df1 = None\n",
    "df_m2.head(3).T"
   ]
  },
  {
   "cell_type": "markdown",
   "metadata": {},
   "source": [
    "Extraemos los datos de MEDIANA + IQR (RANGO INTERCUARTIL)"
   ]
  },
  {
   "cell_type": "code",
   "execution_count": null,
   "metadata": {},
   "outputs": [],
   "source": [
    "grouped = df_m2.drop(['duration'],1).groupby(level='id')\n",
    "medianas = grouped.quantile(.5)\n",
    "iqr = grouped.quantile(.75)-grouped.quantile(.25)\n",
    "medias = grouped.mean()\n",
    "desvios = grouped.std()"
   ]
  },
  {
   "cell_type": "code",
   "execution_count": null,
   "metadata": {},
   "outputs": [],
   "source": [
    "df_pitches_timbres_medias_std = pd.merge(medias, desvios, on='id', suffixes=('_media', '_std'))\n",
    "df_pitches_timbres_medianas_iqr = pd.merge(medianas, iqr, on='id', suffixes=('_mediana', '_iqr'))"
   ]
  },
  {
   "cell_type": "markdown",
   "metadata": {},
   "source": [
    "Y LO NORMALIZAMOS (al menos hasta donde puede hacerse de una manera sencilla)"
   ]
  },
  {
   "cell_type": "code",
   "execution_count": null,
   "metadata": {},
   "outputs": [],
   "source": [
    "quantil=100 # 50 quantiles\n",
    "\n",
    "features_2 = df_pitches_timbres_medianas_iqr.columns\n",
    "df_pitches_timbres_medianas_iqr_normalizado_quantiles = pd.DataFrame(\n",
    "    quantile_transform(\n",
    "        df_pitches_timbres_medianas_iqr[features_2], \n",
    "        n_quantiles = quantil,\n",
    "        output_distribution = 'normal', \n",
    "        random_state = 0, \n",
    "        copy = True\n",
    "    ), columns=features_2,index=medianas.index\n",
    ")\n",
    "\n",
    "df_pitches_timbres_medianas_iqr_normalizado_quantiles.head(3).T"
   ]
  },
  {
   "cell_type": "markdown",
   "metadata": {},
   "source": [
    "Mergeamos los datos normalizados con el dataframe"
   ]
  },
  {
   "cell_type": "code",
   "execution_count": null,
   "metadata": {},
   "outputs": [],
   "source": [
    "df_merged2 = df_merged.select_dtypes(['number']).drop(['disc_number','track_number','release_date'],1)\n",
    "\n",
    "df_merged_quantiles = pd.DataFrame(\n",
    "    quantile_transform(\n",
    "        df_merged2,\n",
    "        n_quantiles = quantil,\n",
    "        output_distribution = 'normal', \n",
    "        random_state = 0, \n",
    "        copy = True\n",
    "    ), columns=df_merged2.columns,index=df_merged2.index\n",
    ")\n",
    "df_merged_quantiles['genre']=df_merged['genre']\n",
    "\n",
    "df_merged_quantiles.head(3).T"
   ]
  },
  {
   "cell_type": "markdown",
   "metadata": {},
   "source": [
    "Lo integramos al resto de los datos y lo guardamos.  Fin."
   ]
  },
  {
   "cell_type": "code",
   "execution_count": null,
   "metadata": {},
   "outputs": [],
   "source": [
    "df_merged_all = df_merged_quantiles.merge(\n",
    "    df_pitches_timbres_medianas_iqr_normalizado_quantiles, \n",
    "    on='id', \n",
    "    how='inner'\n",
    ")\n",
    "df_merged_all.head(3).T"
   ]
  },
  {
   "cell_type": "code",
   "execution_count": null,
   "metadata": {},
   "outputs": [],
   "source": [
    "df_merged_all.to_pickle(\"../sources/df_merged_all_quantiles_mediana_iqr.pickle\")"
   ]
  },
  {
   "cell_type": "code",
   "execution_count": null,
   "metadata": {},
   "outputs": [],
   "source": [
    "df_merged_all.head(3).T"
   ]
  },
  {
   "cell_type": "code",
   "execution_count": null,
   "metadata": {},
   "outputs": [],
   "source": []
  },
  {
   "cell_type": "code",
   "execution_count": null,
   "metadata": {},
   "outputs": [],
   "source": []
  },
  {
   "cell_type": "code",
   "execution_count": null,
   "metadata": {},
   "outputs": [],
   "source": []
  },
  {
   "cell_type": "code",
   "execution_count": null,
   "metadata": {},
   "outputs": [],
   "source": []
  },
  {
   "cell_type": "code",
   "execution_count": null,
   "metadata": {},
   "outputs": [],
   "source": []
  }
 ],
 "metadata": {
  "kernelspec": {
   "display_name": "Python 3",
   "language": "python",
   "name": "python3"
  },
  "language_info": {
   "codemirror_mode": {
    "name": "ipython",
    "version": 3
   },
   "file_extension": ".py",
   "mimetype": "text/x-python",
   "name": "python",
   "nbconvert_exporter": "python",
   "pygments_lexer": "ipython3",
   "version": "3.7.6"
  }
 },
 "nbformat": 4,
 "nbformat_minor": 4
}

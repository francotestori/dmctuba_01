{
 "cells": [
  {
   "cell_type": "code",
   "execution_count": null,
   "metadata": {},
   "outputs": [],
   "source": [
    "import seaborn as sns\n",
    "import matplotlib.pyplot as plt\n",
    "\n",
    "# Números y Datos\n",
    "import pandas as pd\n",
    "import numpy as np\n",
    "\n",
    "from sklearn.metrics import confusion_matrix\n",
    "\n",
    "sns.set_style('darkgrid')\n",
    "\n",
    "plt.rcParams['figure.figsize'] = [4, 4]\n",
    "plt.rcParams['figure.dpi'] = 100 # 200 e.g. is really fine, but slower\n",
    "\n",
    "# Set seed for random generation\n",
    "seed = 3569\n",
    "np.random.seed(seed)\n",
    "\n",
    "genre_config = {\n",
    "    'jazz': 1,\n",
    "    'classical' : 2,\n",
    "    'drum-and-bass' : 3,\n",
    "    'death-metal' : 4,\n",
    "    'ambient' : 5,\n",
    "    'ska' : 6,\n",
    "    'singer-songwriter' : 7,\n",
    "    'opera' : 8,\n",
    "    'trance' : 9\n",
    "}"
   ]
  },
  {
   "cell_type": "code",
   "execution_count": null,
   "metadata": {
    "pycharm": {
     "name": "#%%\n"
    }
   },
   "outputs": [],
   "source": [
    "df_spotify = pd.read_pickle('sources/df_merged_posta_preprocesado.pickle')"
   ]
  },
  {
   "cell_type": "code",
   "execution_count": null,
   "metadata": {
    "pycharm": {
     "name": "#%%\n"
    }
   },
   "outputs": [],
   "source": [
    "df_spotify.head(10)"
   ]
  },
  {
   "cell_type": "code",
   "execution_count": null,
   "metadata": {
    "pycharm": {
     "name": "#%%\n"
    }
   },
   "outputs": [],
   "source": [
    "genre_real = df_spotify['genre']\n",
    "genre_numeric = [genre_config[item] for item in genre_real]"
   ]
  },
  {
   "cell_type": "code",
   "execution_count": null,
   "metadata": {
    "pycharm": {
     "name": "#%%\n"
    }
   },
   "outputs": [],
   "source": [
    "numerics = ['int16', 'int32', 'int64', 'float16', 'float32', 'float64']\n",
    "df_numeric = df_spotify.select_dtypes(include=numerics)"
   ]
  },
  {
   "cell_type": "code",
   "execution_count": null,
   "metadata": {
    "pycharm": {
     "name": "#%%\n"
    }
   },
   "outputs": [],
   "source": [
    "def plot_conf_matrix(real, Z2, xlabels, description):\n",
    "    mat = confusion_matrix(real, Z2)\n",
    "    sns.heatmap(\n",
    "        mat.T,\n",
    "        square=True,\n",
    "        annot=True,\n",
    "        fmt='d',\n",
    "        cbar=False,\n",
    "        xticklabels=xlabels,\n",
    "        yticklabels=range(9)\n",
    "    )\n",
    "    plt.xlabel('Real')\n",
    "    plt.ylabel(description)\n",
    "    plt.show()"
   ]
  },
  {
   "cell_type": "code",
   "execution_count": null,
   "metadata": {
    "pycharm": {
     "name": "#%%\n"
    }
   },
   "outputs": [],
   "source": [
    "genres = genre_real.unique()\n",
    "\n",
    "plot_conf_matrix(\n",
    "    genre_real.values,\n",
    "    genre_real.values,\n",
    "    genres,\n",
    "    'Original'\n",
    ")"
   ]
  },
  {
   "cell_type": "code",
   "execution_count": null,
   "metadata": {
    "pycharm": {
     "name": "#%%\n"
    }
   },
   "outputs": [],
   "source": [
    "# Efecto Uniforme\n",
    "clusters = df_spotify.genre.value_counts()\n",
    "print(np.std(clusters)/np.mean(clusters))"
   ]
  },
  {
   "cell_type": "code",
   "execution_count": null,
   "metadata": {
    "pycharm": {
     "name": "#%%\n"
    }
   },
   "outputs": [],
   "source": [
    "## Validación Interna\n",
    "from sklearn.metrics.pairwise import euclidean_distances\n",
    "\n",
    "df = df_spotify.drop(['genre'], axis=1)\n",
    "d  = euclidean_distances(df, df)"
   ]
  },
  {
   "cell_type": "code",
   "execution_count": null,
   "metadata": {
    "pycharm": {
     "name": "#%%\n"
    }
   },
   "outputs": [],
   "source": [
    "import pylab\n",
    "from scipy.cluster.hierarchy import dendrogram, linkage\n",
    "\n",
    "# Abrir figura nueva\n",
    "fig = pylab.figure()\n",
    "\n",
    "# Calcular dendrograma y graficar.\n",
    "axdendro = fig.add_axes([0.09,0.1,0.2,0.8])\n",
    "Y = linkage(d, method='centroid')\n",
    "Z = dendrogram(Y, orientation='right')\n",
    "axdendro.set_xticks([])\n",
    "axdendro.set_yticks([])\n",
    "axdendro.invert_xaxis()\n",
    "\n",
    "# Graficar la matriz de distancias.\n",
    "axmatrix = fig.add_axes([0.3,0.1,0.6,0.8])\n",
    "index = Z['leaves']\n",
    "d = d[index,:]\n",
    "d = d[:,index]\n",
    "im = axmatrix.matshow(d, aspect='auto', origin='lower')\n",
    "axmatrix.set_xticks([])\n",
    "axmatrix.set_yticks([])\n",
    "\n",
    "# Graficar la barra de color\n",
    "axcolor = fig.add_axes([0.91,0.1,0.02,0.8])\n",
    "pylab.colorbar(im, cax=axcolor)"
   ]
  },
  {
   "cell_type": "code",
   "execution_count": null,
   "metadata": {
    "pycharm": {
     "name": "#%%\n"
    }
   },
   "outputs": [],
   "source": [
    "sns.clustermap(d)"
   ]
  },
  {
   "cell_type": "code",
   "execution_count": null,
   "metadata": {
    "pycharm": {
     "name": "#%%\n"
    }
   },
   "outputs": [],
   "source": [
    "from sklearn.metrics import  silhouette_score\n",
    "\n",
    "## Silhuette usando sklearn\n",
    "silhouette_avg = silhouette_score(df, df_spotify.genre)\n",
    "silhouette_avg"
   ]
  },
  {
   "cell_type": "code",
   "execution_count": null,
   "metadata": {
    "pycharm": {
     "name": "#%%\n"
    }
   },
   "outputs": [],
   "source": [
    "from sklearn.metrics import  silhouette_samples\n",
    "\n",
    "## Silhuette usando sklearn\n",
    "sample_silhouette_values = silhouette_samples(df, df_spotify.genre)\n",
    "sample_silhouette_values"
   ]
  },
  {
   "cell_type": "code",
   "execution_count": null,
   "metadata": {
    "pycharm": {
     "is_executing": true,
     "name": "#%%\n"
    }
   },
   "outputs": [],
   "source": [
    "# Estimar el coeficiente de Silhouette para cada cluster\n",
    "cluster_labels = df_spotify.genre\n",
    "clusters = np.unique(cluster_labels)\n",
    "ith_cluster_silhouette_avg = []\n",
    "for cluster in clusters:\n",
    "    ith_cluster_silhouette_values = sample_silhouette_values[cluster_labels == cluster]\n",
    "    ith_cluster_silhouette_avg.append(\n",
    "        {\n",
    "            \"cluster\": cluster,\n",
    "            \"silhouette_avg\": np.mean(ith_cluster_silhouette_values)\n",
    "        }\n",
    "    )\n",
    "ith_cluster_silhouette_avg"
   ]
  },
  {
   "cell_type": "code",
   "execution_count": null,
   "metadata": {
    "pycharm": {
     "name": "#%%\n"
    }
   },
   "outputs": [],
   "source": [
    "palette = iter(\n",
    "    sns.husl_palette(\n",
    "        len(clusters)\n",
    "    )\n",
    ")\n",
    "\n",
    "fig, ax1 = plt.subplots(1, 1)\n",
    "fig.set_size_inches(18, 7)\n",
    "\n",
    "# The 1st subplot is the silhouette plot\n",
    "# The silhouette coefficient can range from -1, 1 but in this example all\n",
    "# lie within [-0.1, 1]\n",
    "ax1.set_xlim([-0.1, 1])\n",
    "\n",
    "# The (n_clusters+1)*10 is for inserting blank space between silhouette\n",
    "# plots of individual clusters, to demarcate them clearly.\n",
    "ax1.set_ylim([0, len(df_spotify) + (len(clusters) + 1) * 10])\n",
    "\n",
    "y_lower = 10\n",
    "for cluster in clusters:\n",
    "    ith_cluster_silhouette_values = sample_silhouette_values[cluster_labels == cluster]\n",
    "    ith_cluster_silhouette_values.sort()\n",
    "    size_cluster_i = ith_cluster_silhouette_values.shape[0]\n",
    "    y_upper = y_lower + size_cluster_i\n",
    "\n",
    "    color = next(palette)\n",
    "    ax1.fill_betweenx(\n",
    "        np.arange(y_lower, y_upper),\n",
    "        0,\n",
    "        ith_cluster_silhouette_values,\n",
    "        facecolor=color,\n",
    "        edgecolor=color,\n",
    "        alpha=0.7\n",
    "    )\n",
    "\n",
    "    # Label the silhouette plots with their cluster numbers at the middle\n",
    "    ax1.text(-0.05, y_lower + 0.5 * size_cluster_i, cluster)\n",
    "\n",
    "    # Compute the new y_lower for next plot\n",
    "    y_lower = y_upper + 10  # 10 for the 0 samples\n",
    "\n",
    "ax1.set_xlabel(\"Coeficiente de silhouette\")\n",
    "ax1.set_ylabel(\"Cluster label\")\n",
    "\n",
    "# The vertical line for average silhouette score of all the values\n",
    "ax1.axvline(\n",
    "    x=silhouette_avg,\n",
    "    color=\"red\",\n",
    "    linestyle=\"--\"\n",
    ")\n",
    "\n",
    "ax1.set_yticks([])  # Clear the yaxis labels / ticks\n",
    "ax1.set_xticks([-0.4, -0.3, -0.2, 0, 0.2, 0.4, 0.6])\n",
    "\n",
    "plt.show()"
   ]
  }
 ],
 "metadata": {
  "kernelspec": {
   "display_name": "Python 3",
   "language": "python",
   "name": "python3"
  },
  "language_info": {
   "codemirror_mode": {
    "name": "ipython",
    "version": 3
   },
   "file_extension": ".py",
   "mimetype": "text/x-python",
   "name": "python",
   "nbconvert_exporter": "python",
   "pygments_lexer": "ipython3",
   "version": "3.8.5"
  }
 },
 "nbformat": 4,
 "nbformat_minor": 1
}